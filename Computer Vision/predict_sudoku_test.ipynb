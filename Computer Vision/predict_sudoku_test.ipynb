{
 "cells": [
  {
   "cell_type": "markdown",
   "metadata": {},
   "source": [
    "### Testing saved model"
   ]
  },
  {
   "cell_type": "code",
   "execution_count": 1,
   "metadata": {},
   "outputs": [],
   "source": [
    "import os\n",
    "import cv2\n",
    "import pickle\n",
    "import numpy as np\n",
    "from PIL import Image\n",
    "from detect_sudoku import (find_grid_in_img, \n",
    "                           center_image_single_contour, \n",
    "                           center_image_broken_contours)"
   ]
  },
  {
   "cell_type": "code",
   "execution_count": 42,
   "metadata": {},
   "outputs": [],
   "source": [
    "curdir = os.getcwd()\n",
    "sudoku_model_pkl = os.path.join(curdir, 'sudoku_model.pkl')\n",
    "sudoku_model = pickle.load(open(sudoku_model_pkl, 'rb'))"
   ]
  },
  {
   "cell_type": "code",
   "execution_count": 34,
   "metadata": {},
   "outputs": [],
   "source": [
    "def show_wait_destroy(img, window_name = 'image'):\n",
    "    cv2.imshow(window_name, img)\n",
    "    cv2.moveWindow(window_name, 500, 0)\n",
    "    cv2.waitKey(0)\n",
    "    cv2.destroyWindow(window_name)"
   ]
  },
  {
   "cell_type": "code",
   "execution_count": 35,
   "metadata": {},
   "outputs": [],
   "source": [
    "linewidth = 4\n",
    "square_size = 28\n",
    "total_square_size = square_size + 2 * linewidth"
   ]
  },
  {
   "cell_type": "code",
   "execution_count": 36,
   "metadata": {},
   "outputs": [],
   "source": [
    "img = cv2.imread('samples/sudoku.jpg', 0) \n",
    "# put relative path of sudoku image here\n",
    "\n",
    "images = np.hstack([img])\n",
    "show_wait_destroy(images)"
   ]
  },
  {
   "cell_type": "code",
   "execution_count": 37,
   "metadata": {},
   "outputs": [],
   "source": [
    "try:\n",
    "    grid = find_grid_in_img(img)\n",
    "    images = np.hstack([grid])\n",
    "    cv2.imshow('imges', images)\n",
    "    cv2.waitKey()\n",
    "    cv2.destroyAllWindows()\n",
    "\n",
    "except:\n",
    "    print('Sudoku not detected')"
   ]
  },
  {
   "cell_type": "code",
   "execution_count": 43,
   "metadata": {},
   "outputs": [
    {
     "name": "stdout",
     "output_type": "stream",
     "text": [
      "digit: 4\n",
      "digit: 1\n",
      "digit: 6\n",
      "digit: 9\n",
      "digit: 7\n",
      "digit: 5\n",
      "digit: 1\n",
      "digit: 8\n",
      "digit: 3\n",
      "digit: 5\n",
      "digit: 4\n",
      "digit: 6\n",
      "digit: 7\n",
      "digit: 8\n",
      "digit: 4\n",
      "digit: 7\n",
      "digit: 2\n",
      "digit: 1\n",
      "digit: 1\n",
      "digit: 4\n",
      "digit: 9\n",
      "digit: 8\n",
      "digit: 7\n",
      "digit: 9\n",
      "digit: 6\n",
      "digit: 8\n",
      "digit: 6\n",
      "digit: 2\n",
      "digit: 8\n",
      "digit: 7\n",
      "digit: 5\n"
     ]
    }
   ],
   "source": [
    "train_folder = os.path.join(curdir, 'sudoku_dataset/train/')\n",
    "\n",
    "sudoku = np.zeros((9,9))\n",
    "for i in range(9):\n",
    "    for j in range(9):\n",
    "        \n",
    "        square = grid[i*total_square_size: (i+1)*total_square_size, \n",
    "                      j*total_square_size: (j+1)*total_square_size]\n",
    "        \n",
    "        square = square[linewidth: -linewidth, linewidth: -linewidth]            \n",
    "        centered = center_image_single_contour(square)\n",
    "            \n",
    "        if not isinstance(centered, np.ndarray):\n",
    "            centered = center_image_broken_contours(square)\n",
    "            \n",
    "        if isinstance(centered, np.ndarray):\n",
    "            \n",
    "            centered_exp = centered / 255.0 \n",
    "            centered_exp = centered_exp.ravel()\n",
    "            centered_exp = np.expand_dims(centered_exp, 0) \n",
    "            digit = sudoku_model.predict(centered_exp)[0]\n",
    "            \n",
    "            cv2.imshow('imges', centered)\n",
    "            print(f'digit: {digit}')\n",
    "            key = cv2.waitKey(0)\n",
    "            cv2.destroyAllWindows()\n",
    "            \n",
    "            if key!= 13: # DONT press Enter if digit recognized is wrong\n",
    "                digit = int(input('Enter actual digit (0 to cancel): ')) # Enter actual digit\n",
    "                if digit != 0:\n",
    "                    img = Image.fromarray(centered)\n",
    "                    if img.mode != 'RGB':\n",
    "                        img = img.convert('RGB')\n",
    "                    \n",
    "                    length = len(os.listdir(train_folder + str(digit)))\n",
    "                    img.save(train_folder + str(digit) + '/' + str(length + 1) + '.jpg')\n",
    "            \n",
    "            else:\n",
    "                sudoku[i][j] = digit\n",
    "        \n",
    "        else:\n",
    "            cv2.imshow('imges', square)\n",
    "            key = cv2.waitKey(0) # press backspace if an image is not detected                     \n",
    "            cv2.destroyAllWindows() # for debugging purposes\n",
    "            \n",
    "            if key == 8: \n",
    "                # write code to debug non detection of valid digit images"
   ]
  },
  {
   "cell_type": "code",
   "execution_count": 9,
   "metadata": {},
   "outputs": [
    {
     "data": {
      "text/plain": [
       "array([[0., 0., 4., 0., 6., 9., 0., 0., 0.],\n",
       "       [0., 0., 0., 0., 0., 8., 0., 0., 0.],\n",
       "       [0., 0., 5., 0., 0., 0., 4., 0., 0.],\n",
       "       [0., 0., 6., 0., 0., 0., 0., 8., 0.],\n",
       "       [4., 0., 0., 0., 0., 0., 2., 0., 0.],\n",
       "       [0., 0., 0., 0., 0., 4., 9., 0., 0.],\n",
       "       [0., 0., 8., 0., 0., 0., 0., 0., 0.],\n",
       "       [0., 9., 0., 6., 0., 0., 0., 0., 8.],\n",
       "       [6., 0., 0., 2., 8., 0., 5., 0., 0.]])"
      ]
     },
     "execution_count": 9,
     "metadata": {},
     "output_type": "execute_result"
    }
   ],
   "source": [
    "sudoku"
   ]
  },
  {
   "cell_type": "code",
   "execution_count": null,
   "metadata": {},
   "outputs": [],
   "source": []
  }
 ],
 "metadata": {
  "kernelspec": {
   "display_name": "Python 3.7 (tensorflow)",
   "language": "python",
   "name": "tensorflow"
  },
  "language_info": {
   "codemirror_mode": {
    "name": "ipython",
    "version": 3
   },
   "file_extension": ".py",
   "mimetype": "text/x-python",
   "name": "python",
   "nbconvert_exporter": "python",
   "pygments_lexer": "ipython3",
   "version": "3.7.6"
  },
  "toc": {
   "base_numbering": 1,
   "nav_menu": {},
   "number_sections": false,
   "sideBar": true,
   "skip_h1_title": false,
   "title_cell": "Table of Contents",
   "title_sidebar": "Contents",
   "toc_cell": false,
   "toc_position": {},
   "toc_section_display": true,
   "toc_window_display": false
  },
  "varInspector": {
   "cols": {
    "lenName": 16,
    "lenType": 16,
    "lenVar": 40
   },
   "kernels_config": {
    "python": {
     "delete_cmd_postfix": "",
     "delete_cmd_prefix": "del ",
     "library": "var_list.py",
     "varRefreshCmd": "print(var_dic_list())"
    },
    "r": {
     "delete_cmd_postfix": ") ",
     "delete_cmd_prefix": "rm(",
     "library": "var_list.r",
     "varRefreshCmd": "cat(var_dic_list()) "
    }
   },
   "types_to_exclude": [
    "module",
    "function",
    "builtin_function_or_method",
    "instance",
    "_Feature"
   ],
   "window_display": false
  }
 },
 "nbformat": 4,
 "nbformat_minor": 4
}
