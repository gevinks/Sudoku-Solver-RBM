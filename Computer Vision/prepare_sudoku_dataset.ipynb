{
 "cells": [
  {
   "cell_type": "markdown",
   "metadata": {},
   "source": [
    "### Notebook to get squares from sudoku dataset "
   ]
  },
  {
   "cell_type": "code",
   "execution_count": 1,
   "metadata": {},
   "outputs": [],
   "source": [
    "import os\n",
    "import cv2\n",
    "import numpy as np\n",
    "import pandas as pd\n",
    "from PIL import Image\n",
    "from collections import defaultdict\n",
    "from detect_sudoku import find_grid_in_img, center_image_single_contour, center_image_broken_contours"
   ]
  },
  {
   "cell_type": "code",
   "execution_count": 2,
   "metadata": {},
   "outputs": [],
   "source": [
    "linewidth = 4 # safety margin \n",
    "square_size = 28\n",
    "contour_area_threshold = 30\n",
    "true_square_size = square_size + 2 * linewidth"
   ]
  },
  {
   "cell_type": "code",
   "execution_count": 3,
   "metadata": {},
   "outputs": [],
   "source": [
    "def show_wait_destroy(img, window_name = 'image'):\n",
    "    cv2.imshow(window_name, img)\n",
    "    cv2.moveWindow(window_name, 500, 0)\n",
    "    cv2.waitKey(0)\n",
    "    cv2.destroyWindow(window_name)"
   ]
  },
  {
   "cell_type": "code",
   "execution_count": 4,
   "metadata": {},
   "outputs": [],
   "source": [
    "def save_digits(grid, labels, data_dir):\n",
    "    for i in range(9):\n",
    "        row_labels = labels[i][0].strip().split(' ')\n",
    "        for j in range(9):\n",
    "            if row_labels[j] != '0':\n",
    "                digit_count[row_labels[j]] += 1\n",
    "                foldername = data_dir + row_labels[j] + '/'\n",
    "                img_np = grid[i * true_square_size: (i + 1) * true_square_size, \n",
    "                              j * true_square_size: (j + 1) * true_square_size]\n",
    "                \n",
    "                img_np = img_np[linewidth: -linewidth, linewidth: -linewidth]\n",
    "                centered = center_image_single_contour(img_np)\n",
    "                if not isinstance(centered, np.ndarray):\n",
    "                    centered = center_image_broken_contours(img_np)\n",
    "                    \n",
    "                try:\n",
    "                    img = Image.fromarray(centered)\n",
    "                except: continue\n",
    "                \n",
    "                if img.mode != 'RGB':\n",
    "                    img = img.convert('RGB')\n",
    "                \n",
    "                img.save(foldername + str(digit_count[row_labels[j]]) + '.jpg')\n"
   ]
  },
  {
   "cell_type": "code",
   "execution_count": 5,
   "metadata": {},
   "outputs": [],
   "source": [
    "# create folders for digits\n",
    "curdir = os.getcwd()\n",
    "for i in range(1, 10):\n",
    "    if not os.path.exists(os.path.join(curdir, 'sudoku_dataset/train/' + str(i))):\n",
    "        os.makedirs(os.path.join(curdir, 'sudoku_dataset/train/' + str(i)))\n",
    "                    \n",
    "for i in range(1, 10):\n",
    "    if not os.path.exists(os.path.join(curdir, 'sudoku_dataset/test/' + str(i))):\n",
    "        os.makedirs(os.path.join(curdir, 'sudoku_dataset/test/' + str(i)))"
   ]
  },
  {
   "cell_type": "code",
   "execution_count": 6,
   "metadata": {},
   "outputs": [
    {
     "name": "stdout",
     "output_type": "stream",
     "text": [
      "train: 239 / 240\n",
      "test: 79 / 80"
     ]
    }
   ],
   "source": [
    "digit_count = defaultdict(int)\n",
    "\n",
    "img_dir = curdir + '/sudoku_full_dataset/v1_training/'\n",
    "data_dir = curdir + '/sudoku_dataset/train/'\n",
    "\n",
    "length = len(os.listdir(img_dir))\n",
    "for idx, entry in enumerate(os.scandir(img_dir)):\n",
    "    print(f\"\\rtrain: {idx} / {length}\", end = \"\")\n",
    "    if (entry.path.endswith(\".jpg\") and entry.is_file()):\n",
    "        try:\n",
    "            img = cv2.imread(entry.path, 0)\n",
    "            grid = find_grid_in_img(img)           \n",
    "        except: \n",
    "            continue\n",
    "            \n",
    "        info_filename = entry.path[:-3] + 'dat'\n",
    "        labels = pd.read_table(info_filename, sep = \"\\t\", skiprows = 1).to_numpy()\n",
    "        save_digits(grid, labels, data_dir)\n",
    "        \n",
    "print(\"\")\n",
    "digit_count = defaultdict(int)\n",
    "img_dir = curdir + '/sudoku_full_dataset/v1_test/'\n",
    "data_dir = curdir + '/sudoku_dataset/test/'\n",
    "\n",
    "length = len(os.listdir(img_dir))\n",
    "for idx, entry in enumerate(os.scandir(img_dir)):\n",
    "    print(f\"\\rtest: {idx} / {length}\", end = \"\")\n",
    "    if (entry.path.endswith(\".jpg\") and entry.is_file()):\n",
    "        try:\n",
    "            img = cv2.imread(entry.path, 0)\n",
    "            grid = find_grid_in_img(img)           \n",
    "        except: continue\n",
    "        info_filename = entry.path[:-3] + 'dat'\n",
    "        labels = pd.read_table(info_filename, sep = \"\\t\", skiprows = 1).to_numpy()\n",
    "        save_digits(grid, labels, data_dir)"
   ]
  },
  {
   "cell_type": "code",
   "execution_count": null,
   "metadata": {},
   "outputs": [],
   "source": []
  }
 ],
 "metadata": {
  "kernelspec": {
   "display_name": "Python 3.7 (tensorflow)",
   "language": "python",
   "name": "tensorflow"
  },
  "language_info": {
   "codemirror_mode": {
    "name": "ipython",
    "version": 3
   },
   "file_extension": ".py",
   "mimetype": "text/x-python",
   "name": "python",
   "nbconvert_exporter": "python",
   "pygments_lexer": "ipython3",
   "version": "3.7.6"
  },
  "toc": {
   "base_numbering": 1,
   "nav_menu": {},
   "number_sections": false,
   "sideBar": true,
   "skip_h1_title": false,
   "title_cell": "Table of Contents",
   "title_sidebar": "Contents",
   "toc_cell": false,
   "toc_position": {},
   "toc_section_display": true,
   "toc_window_display": false
  },
  "varInspector": {
   "cols": {
    "lenName": 16,
    "lenType": 16,
    "lenVar": 40
   },
   "kernels_config": {
    "python": {
     "delete_cmd_postfix": "",
     "delete_cmd_prefix": "del ",
     "library": "var_list.py",
     "varRefreshCmd": "print(var_dic_list())"
    },
    "r": {
     "delete_cmd_postfix": ") ",
     "delete_cmd_prefix": "rm(",
     "library": "var_list.r",
     "varRefreshCmd": "cat(var_dic_list()) "
    }
   },
   "types_to_exclude": [
    "module",
    "function",
    "builtin_function_or_method",
    "instance",
    "_Feature"
   ],
   "window_display": false
  }
 },
 "nbformat": 4,
 "nbformat_minor": 4
}
